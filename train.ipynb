{
 "cells": [
  {
   "cell_type": "code",
   "execution_count": 1,
   "metadata": {},
   "outputs": [
    {
     "name": "stdout",
     "output_type": "stream",
     "text": [
      "Requirement already satisfied: pandas==1.1.3 in /home/newbie/anaconda3/lib/python3.8/site-packages (from -r requirements.txt (line 1)) (1.1.3)\n",
      "Requirement already satisfied: numpy==1.19.2 in /home/newbie/anaconda3/lib/python3.8/site-packages (from -r requirements.txt (line 2)) (1.19.2)\n",
      "Requirement already satisfied: scikit-learn==0.23.2 in /home/newbie/anaconda3/lib/python3.8/site-packages (from -r requirements.txt (line 3)) (0.23.2)\n",
      "Requirement already satisfied: seaborn==0.11.0 in /home/newbie/anaconda3/lib/python3.8/site-packages (from -r requirements.txt (line 4)) (0.11.0)\n",
      "Requirement already satisfied: matplotlib==3.3.2 in /home/newbie/anaconda3/lib/python3.8/site-packages (from -r requirements.txt (line 5)) (3.3.2)\n",
      "Requirement already satisfied: python-dateutil>=2.7.3 in /home/newbie/anaconda3/lib/python3.8/site-packages (from pandas==1.1.3->-r requirements.txt (line 1)) (2.8.1)\n",
      "Requirement already satisfied: pytz>=2017.2 in /home/newbie/anaconda3/lib/python3.8/site-packages (from pandas==1.1.3->-r requirements.txt (line 1)) (2020.1)\n",
      "Requirement already satisfied: threadpoolctl>=2.0.0 in /home/newbie/anaconda3/lib/python3.8/site-packages (from scikit-learn==0.23.2->-r requirements.txt (line 3)) (2.1.0)\n",
      "Requirement already satisfied: joblib>=0.11 in /home/newbie/anaconda3/lib/python3.8/site-packages (from scikit-learn==0.23.2->-r requirements.txt (line 3)) (0.17.0)\n",
      "Requirement already satisfied: scipy>=0.19.1 in /home/newbie/anaconda3/lib/python3.8/site-packages (from scikit-learn==0.23.2->-r requirements.txt (line 3)) (1.5.2)\n",
      "Requirement already satisfied: pyparsing!=2.0.4,!=2.1.2,!=2.1.6,>=2.0.3 in /home/newbie/anaconda3/lib/python3.8/site-packages (from matplotlib==3.3.2->-r requirements.txt (line 5)) (2.4.7)\n",
      "Requirement already satisfied: cycler>=0.10 in /home/newbie/anaconda3/lib/python3.8/site-packages (from matplotlib==3.3.2->-r requirements.txt (line 5)) (0.10.0)\n",
      "Requirement already satisfied: pillow>=6.2.0 in /home/newbie/anaconda3/lib/python3.8/site-packages (from matplotlib==3.3.2->-r requirements.txt (line 5)) (8.0.1)\n",
      "Requirement already satisfied: kiwisolver>=1.0.1 in /home/newbie/anaconda3/lib/python3.8/site-packages (from matplotlib==3.3.2->-r requirements.txt (line 5)) (1.3.0)\n",
      "Requirement already satisfied: certifi>=2020.06.20 in /home/newbie/anaconda3/lib/python3.8/site-packages (from matplotlib==3.3.2->-r requirements.txt (line 5)) (2020.6.20)\n",
      "Requirement already satisfied: six>=1.5 in /home/newbie/anaconda3/lib/python3.8/site-packages (from python-dateutil>=2.7.3->pandas==1.1.3->-r requirements.txt (line 1)) (1.15.0)\n"
     ]
    }
   ],
   "source": [
    "!pip install -r requirements.txt"
   ]
  },
  {
   "cell_type": "code",
   "execution_count": 2,
   "metadata": {},
   "outputs": [],
   "source": [
    "import pandas as pd\n",
    "import numpy as np\n",
    "import matplotlib\n",
    "import matplotlib.pyplot as plt\n",
    "import seaborn as sns\n",
    "\n",
    "from sklearn.preprocessing import LabelEncoder\n",
    "from sklearn.linear_model import LogisticRegression\n",
    "from sklearn.neighbors import KNeighborsClassifier\n",
    "\n",
    "from sklearn.metrics import plot_confusion_matrix\n",
    "\n",
    "from sklearn.metrics import accuracy_score"
   ]
  },
  {
   "cell_type": "code",
   "execution_count": 3,
   "metadata": {},
   "outputs": [],
   "source": [
    "train_set=pd.read_csv(\"train.csv\")\n",
    "test_set=pd.read_csv(\"test.csv\")"
   ]
  },
  {
   "cell_type": "code",
   "execution_count": 4,
   "metadata": {},
   "outputs": [
    {
     "data": {
      "text/html": [
       "<div>\n",
       "<style scoped>\n",
       "    .dataframe tbody tr th:only-of-type {\n",
       "        vertical-align: middle;\n",
       "    }\n",
       "\n",
       "    .dataframe tbody tr th {\n",
       "        vertical-align: top;\n",
       "    }\n",
       "\n",
       "    .dataframe thead th {\n",
       "        text-align: right;\n",
       "    }\n",
       "</style>\n",
       "<table border=\"1\" class=\"dataframe\">\n",
       "  <thead>\n",
       "    <tr style=\"text-align: right;\">\n",
       "      <th></th>\n",
       "      <th>status</th>\n",
       "      <th>gender</th>\n",
       "      <th>ssc_p</th>\n",
       "      <th>ssc_b</th>\n",
       "      <th>hsc_p</th>\n",
       "      <th>hsc_b</th>\n",
       "      <th>hsc_s</th>\n",
       "      <th>degree_p</th>\n",
       "      <th>degree_t</th>\n",
       "      <th>workex</th>\n",
       "      <th>etest_p</th>\n",
       "      <th>specialisation</th>\n",
       "      <th>mba_p</th>\n",
       "      <th>salary</th>\n",
       "    </tr>\n",
       "  </thead>\n",
       "  <tbody>\n",
       "    <tr>\n",
       "      <th>0</th>\n",
       "      <td>Placed</td>\n",
       "      <td>M</td>\n",
       "      <td>76.76</td>\n",
       "      <td>Others</td>\n",
       "      <td>76.50</td>\n",
       "      <td>Others</td>\n",
       "      <td>Commerce</td>\n",
       "      <td>67.50</td>\n",
       "      <td>Comm&amp;Mgmt</td>\n",
       "      <td>Yes</td>\n",
       "      <td>73.35</td>\n",
       "      <td>Mkt&amp;Fin</td>\n",
       "      <td>64.15</td>\n",
       "      <td>350000.0</td>\n",
       "    </tr>\n",
       "    <tr>\n",
       "      <th>1</th>\n",
       "      <td>Placed</td>\n",
       "      <td>M</td>\n",
       "      <td>76.70</td>\n",
       "      <td>Central</td>\n",
       "      <td>89.70</td>\n",
       "      <td>Others</td>\n",
       "      <td>Commerce</td>\n",
       "      <td>66.00</td>\n",
       "      <td>Comm&amp;Mgmt</td>\n",
       "      <td>Yes</td>\n",
       "      <td>90.00</td>\n",
       "      <td>Mkt&amp;Fin</td>\n",
       "      <td>68.55</td>\n",
       "      <td>250000.0</td>\n",
       "    </tr>\n",
       "    <tr>\n",
       "      <th>2</th>\n",
       "      <td>Not Placed</td>\n",
       "      <td>M</td>\n",
       "      <td>62.00</td>\n",
       "      <td>Central</td>\n",
       "      <td>60.33</td>\n",
       "      <td>Others</td>\n",
       "      <td>Science</td>\n",
       "      <td>64.21</td>\n",
       "      <td>Sci&amp;Tech</td>\n",
       "      <td>No</td>\n",
       "      <td>63.00</td>\n",
       "      <td>Mkt&amp;HR</td>\n",
       "      <td>60.02</td>\n",
       "      <td>NaN</td>\n",
       "    </tr>\n",
       "    <tr>\n",
       "      <th>3</th>\n",
       "      <td>Placed</td>\n",
       "      <td>F</td>\n",
       "      <td>79.00</td>\n",
       "      <td>Others</td>\n",
       "      <td>76.00</td>\n",
       "      <td>Others</td>\n",
       "      <td>Commerce</td>\n",
       "      <td>85.00</td>\n",
       "      <td>Comm&amp;Mgmt</td>\n",
       "      <td>No</td>\n",
       "      <td>95.00</td>\n",
       "      <td>Mkt&amp;Fin</td>\n",
       "      <td>69.06</td>\n",
       "      <td>393000.0</td>\n",
       "    </tr>\n",
       "    <tr>\n",
       "      <th>4</th>\n",
       "      <td>Placed</td>\n",
       "      <td>F</td>\n",
       "      <td>73.00</td>\n",
       "      <td>Central</td>\n",
       "      <td>97.00</td>\n",
       "      <td>Others</td>\n",
       "      <td>Commerce</td>\n",
       "      <td>79.00</td>\n",
       "      <td>Comm&amp;Mgmt</td>\n",
       "      <td>Yes</td>\n",
       "      <td>89.00</td>\n",
       "      <td>Mkt&amp;Fin</td>\n",
       "      <td>70.81</td>\n",
       "      <td>650000.0</td>\n",
       "    </tr>\n",
       "  </tbody>\n",
       "</table>\n",
       "</div>"
      ],
      "text/plain": [
       "       status gender  ssc_p    ssc_b  hsc_p   hsc_b     hsc_s  degree_p  \\\n",
       "0      Placed      M  76.76   Others  76.50  Others  Commerce     67.50   \n",
       "1      Placed      M  76.70  Central  89.70  Others  Commerce     66.00   \n",
       "2  Not Placed      M  62.00  Central  60.33  Others   Science     64.21   \n",
       "3      Placed      F  79.00   Others  76.00  Others  Commerce     85.00   \n",
       "4      Placed      F  73.00  Central  97.00  Others  Commerce     79.00   \n",
       "\n",
       "    degree_t workex  etest_p specialisation  mba_p    salary  \n",
       "0  Comm&Mgmt    Yes    73.35        Mkt&Fin  64.15  350000.0  \n",
       "1  Comm&Mgmt    Yes    90.00        Mkt&Fin  68.55  250000.0  \n",
       "2   Sci&Tech     No    63.00         Mkt&HR  60.02       NaN  \n",
       "3  Comm&Mgmt     No    95.00        Mkt&Fin  69.06  393000.0  \n",
       "4  Comm&Mgmt    Yes    89.00        Mkt&Fin  70.81  650000.0  "
      ]
     },
     "execution_count": 4,
     "metadata": {},
     "output_type": "execute_result"
    }
   ],
   "source": [
    "train_set.head()"
   ]
  },
  {
   "cell_type": "code",
   "execution_count": 5,
   "metadata": {},
   "outputs": [
    {
     "data": {
      "text/html": [
       "<div>\n",
       "<style scoped>\n",
       "    .dataframe tbody tr th:only-of-type {\n",
       "        vertical-align: middle;\n",
       "    }\n",
       "\n",
       "    .dataframe tbody tr th {\n",
       "        vertical-align: top;\n",
       "    }\n",
       "\n",
       "    .dataframe thead th {\n",
       "        text-align: right;\n",
       "    }\n",
       "</style>\n",
       "<table border=\"1\" class=\"dataframe\">\n",
       "  <thead>\n",
       "    <tr style=\"text-align: right;\">\n",
       "      <th></th>\n",
       "      <th>status</th>\n",
       "      <th>gender</th>\n",
       "      <th>ssc_p</th>\n",
       "      <th>ssc_b</th>\n",
       "      <th>hsc_p</th>\n",
       "      <th>hsc_b</th>\n",
       "      <th>hsc_s</th>\n",
       "      <th>degree_p</th>\n",
       "      <th>degree_t</th>\n",
       "      <th>workex</th>\n",
       "      <th>etest_p</th>\n",
       "      <th>specialisation</th>\n",
       "      <th>mba_p</th>\n",
       "      <th>salary</th>\n",
       "    </tr>\n",
       "  </thead>\n",
       "  <tbody>\n",
       "    <tr>\n",
       "      <th>0</th>\n",
       "      <td>Not Placed</td>\n",
       "      <td>M</td>\n",
       "      <td>52.0</td>\n",
       "      <td>Others</td>\n",
       "      <td>55.0</td>\n",
       "      <td>Others</td>\n",
       "      <td>Commerce</td>\n",
       "      <td>56.3</td>\n",
       "      <td>Comm&amp;Mgmt</td>\n",
       "      <td>No</td>\n",
       "      <td>59.0</td>\n",
       "      <td>Mkt&amp;Fin</td>\n",
       "      <td>64.74</td>\n",
       "      <td>NaN</td>\n",
       "    </tr>\n",
       "    <tr>\n",
       "      <th>1</th>\n",
       "      <td>Not Placed</td>\n",
       "      <td>M</td>\n",
       "      <td>52.0</td>\n",
       "      <td>Central</td>\n",
       "      <td>57.0</td>\n",
       "      <td>Central</td>\n",
       "      <td>Commerce</td>\n",
       "      <td>50.8</td>\n",
       "      <td>Comm&amp;Mgmt</td>\n",
       "      <td>No</td>\n",
       "      <td>67.0</td>\n",
       "      <td>Mkt&amp;HR</td>\n",
       "      <td>62.79</td>\n",
       "      <td>NaN</td>\n",
       "    </tr>\n",
       "    <tr>\n",
       "      <th>2</th>\n",
       "      <td>Not Placed</td>\n",
       "      <td>M</td>\n",
       "      <td>52.0</td>\n",
       "      <td>Others</td>\n",
       "      <td>50.0</td>\n",
       "      <td>Others</td>\n",
       "      <td>Arts</td>\n",
       "      <td>61.0</td>\n",
       "      <td>Comm&amp;Mgmt</td>\n",
       "      <td>No</td>\n",
       "      <td>60.0</td>\n",
       "      <td>Mkt&amp;Fin</td>\n",
       "      <td>58.52</td>\n",
       "      <td>NaN</td>\n",
       "    </tr>\n",
       "    <tr>\n",
       "      <th>3</th>\n",
       "      <td>Not Placed</td>\n",
       "      <td>M</td>\n",
       "      <td>62.0</td>\n",
       "      <td>Central</td>\n",
       "      <td>58.0</td>\n",
       "      <td>Others</td>\n",
       "      <td>Science</td>\n",
       "      <td>53.0</td>\n",
       "      <td>Comm&amp;Mgmt</td>\n",
       "      <td>No</td>\n",
       "      <td>89.0</td>\n",
       "      <td>Mkt&amp;HR</td>\n",
       "      <td>60.22</td>\n",
       "      <td>NaN</td>\n",
       "    </tr>\n",
       "    <tr>\n",
       "      <th>4</th>\n",
       "      <td>Not Placed</td>\n",
       "      <td>F</td>\n",
       "      <td>47.0</td>\n",
       "      <td>Central</td>\n",
       "      <td>55.0</td>\n",
       "      <td>Others</td>\n",
       "      <td>Science</td>\n",
       "      <td>65.0</td>\n",
       "      <td>Comm&amp;Mgmt</td>\n",
       "      <td>No</td>\n",
       "      <td>62.0</td>\n",
       "      <td>Mkt&amp;HR</td>\n",
       "      <td>65.04</td>\n",
       "      <td>NaN</td>\n",
       "    </tr>\n",
       "  </tbody>\n",
       "</table>\n",
       "</div>"
      ],
      "text/plain": [
       "       status gender  ssc_p    ssc_b  hsc_p    hsc_b     hsc_s  degree_p  \\\n",
       "0  Not Placed      M   52.0   Others   55.0   Others  Commerce      56.3   \n",
       "1  Not Placed      M   52.0  Central   57.0  Central  Commerce      50.8   \n",
       "2  Not Placed      M   52.0   Others   50.0   Others      Arts      61.0   \n",
       "3  Not Placed      M   62.0  Central   58.0   Others   Science      53.0   \n",
       "4  Not Placed      F   47.0  Central   55.0   Others   Science      65.0   \n",
       "\n",
       "    degree_t workex  etest_p specialisation  mba_p  salary  \n",
       "0  Comm&Mgmt     No     59.0        Mkt&Fin  64.74     NaN  \n",
       "1  Comm&Mgmt     No     67.0         Mkt&HR  62.79     NaN  \n",
       "2  Comm&Mgmt     No     60.0        Mkt&Fin  58.52     NaN  \n",
       "3  Comm&Mgmt     No     89.0         Mkt&HR  60.22     NaN  \n",
       "4  Comm&Mgmt     No     62.0         Mkt&HR  65.04     NaN  "
      ]
     },
     "execution_count": 5,
     "metadata": {},
     "output_type": "execute_result"
    }
   ],
   "source": [
    "test_set.head()"
   ]
  },
  {
   "cell_type": "code",
   "execution_count": 6,
   "metadata": {},
   "outputs": [
    {
     "data": {
      "text/plain": [
       "<seaborn.axisgrid.FacetGrid at 0x7fd2013f80d0>"
      ]
     },
     "execution_count": 6,
     "metadata": {},
     "output_type": "execute_result"
    },
    {
     "data": {
      "image/png": "[encoded data removed]",
      "text/plain": [
       "<Figure size 360x360 with 1 Axes>"
      ]
     },
     "metadata": {
      "needs_background": "light"
     },
     "output_type": "display_data"
    }
   ],
   "source": [
    "sns.catplot(x=\"status\", kind=\"count\", data=train_set)"
   ]
  },
  {
   "cell_type": "markdown",
   "metadata": {},
   "source": [
    "Il numero di `Placed` è nettamente superiore ai `Not Placed`. Probabilmente il maggior numero di errori verrà fatto proprio su quest'ultimo valore"
   ]
  },
  {
   "cell_type": "code",
   "execution_count": 7,
   "metadata": {},
   "outputs": [
    {
     "data": {
      "text/html": [
       "<div>\n",
       "<style scoped>\n",
       "    .dataframe tbody tr th:only-of-type {\n",
       "        vertical-align: middle;\n",
       "    }\n",
       "\n",
       "    .dataframe tbody tr th {\n",
       "        vertical-align: top;\n",
       "    }\n",
       "\n",
       "    .dataframe thead th {\n",
       "        text-align: right;\n",
       "    }\n",
       "</style>\n",
       "<table border=\"1\" class=\"dataframe\">\n",
       "  <thead>\n",
       "    <tr style=\"text-align: right;\">\n",
       "      <th></th>\n",
       "      <th>ssc_p</th>\n",
       "      <th>hsc_p</th>\n",
       "      <th>degree_p</th>\n",
       "      <th>etest_p</th>\n",
       "      <th>mba_p</th>\n",
       "      <th>salary</th>\n",
       "    </tr>\n",
       "  </thead>\n",
       "  <tbody>\n",
       "    <tr>\n",
       "      <th>count</th>\n",
       "      <td>137.000000</td>\n",
       "      <td>137.000000</td>\n",
       "      <td>137.000000</td>\n",
       "      <td>137.000000</td>\n",
       "      <td>137.000000</td>\n",
       "      <td>97.000000</td>\n",
       "    </tr>\n",
       "    <tr>\n",
       "      <th>mean</th>\n",
       "      <td>67.681314</td>\n",
       "      <td>66.613139</td>\n",
       "      <td>66.284526</td>\n",
       "      <td>72.680219</td>\n",
       "      <td>62.223212</td>\n",
       "      <td>291474.226804</td>\n",
       "    </tr>\n",
       "    <tr>\n",
       "      <th>std</th>\n",
       "      <td>10.607830</td>\n",
       "      <td>11.658483</td>\n",
       "      <td>7.293686</td>\n",
       "      <td>13.778495</td>\n",
       "      <td>6.118332</td>\n",
       "      <td>98948.123275</td>\n",
       "    </tr>\n",
       "    <tr>\n",
       "      <th>min</th>\n",
       "      <td>40.890000</td>\n",
       "      <td>37.000000</td>\n",
       "      <td>52.000000</td>\n",
       "      <td>50.000000</td>\n",
       "      <td>51.210000</td>\n",
       "      <td>200000.000000</td>\n",
       "    </tr>\n",
       "    <tr>\n",
       "      <th>25%</th>\n",
       "      <td>61.000000</td>\n",
       "      <td>61.000000</td>\n",
       "      <td>61.000000</td>\n",
       "      <td>61.000000</td>\n",
       "      <td>57.550000</td>\n",
       "      <td>240000.000000</td>\n",
       "    </tr>\n",
       "    <tr>\n",
       "      <th>50%</th>\n",
       "      <td>67.900000</td>\n",
       "      <td>65.000000</td>\n",
       "      <td>66.000000</td>\n",
       "      <td>72.000000</td>\n",
       "      <td>61.580000</td>\n",
       "      <td>265000.000000</td>\n",
       "    </tr>\n",
       "    <tr>\n",
       "      <th>75%</th>\n",
       "      <td>75.200000</td>\n",
       "      <td>73.000000</td>\n",
       "      <td>71.000000</td>\n",
       "      <td>84.270000</td>\n",
       "      <td>66.230000</td>\n",
       "      <td>300000.000000</td>\n",
       "    </tr>\n",
       "    <tr>\n",
       "      <th>max</th>\n",
       "      <td>87.000000</td>\n",
       "      <td>97.700000</td>\n",
       "      <td>91.000000</td>\n",
       "      <td>98.000000</td>\n",
       "      <td>77.890000</td>\n",
       "      <td>940000.000000</td>\n",
       "    </tr>\n",
       "  </tbody>\n",
       "</table>\n",
       "</div>"
      ],
      "text/plain": [
       "            ssc_p       hsc_p    degree_p     etest_p       mba_p  \\\n",
       "count  137.000000  137.000000  137.000000  137.000000  137.000000   \n",
       "mean    67.681314   66.613139   66.284526   72.680219   62.223212   \n",
       "std     10.607830   11.658483    7.293686   13.778495    6.118332   \n",
       "min     40.890000   37.000000   52.000000   50.000000   51.210000   \n",
       "25%     61.000000   61.000000   61.000000   61.000000   57.550000   \n",
       "50%     67.900000   65.000000   66.000000   72.000000   61.580000   \n",
       "75%     75.200000   73.000000   71.000000   84.270000   66.230000   \n",
       "max     87.000000   97.700000   91.000000   98.000000   77.890000   \n",
       "\n",
       "              salary  \n",
       "count      97.000000  \n",
       "mean   291474.226804  \n",
       "std     98948.123275  \n",
       "min    200000.000000  \n",
       "25%    240000.000000  \n",
       "50%    265000.000000  \n",
       "75%    300000.000000  \n",
       "max    940000.000000  "
      ]
     },
     "execution_count": 7,
     "metadata": {},
     "output_type": "execute_result"
    }
   ],
   "source": [
    "train_set.describe()"
   ]
  },
  {
   "cell_type": "code",
   "execution_count": 8,
   "metadata": {},
   "outputs": [
    {
     "data": {
      "text/html": [
       "<div>\n",
       "<style scoped>\n",
       "    .dataframe tbody tr th:only-of-type {\n",
       "        vertical-align: middle;\n",
       "    }\n",
       "\n",
       "    .dataframe tbody tr th {\n",
       "        vertical-align: top;\n",
       "    }\n",
       "\n",
       "    .dataframe thead th {\n",
       "        text-align: right;\n",
       "    }\n",
       "</style>\n",
       "<table border=\"1\" class=\"dataframe\">\n",
       "  <thead>\n",
       "    <tr style=\"text-align: right;\">\n",
       "      <th></th>\n",
       "      <th>ssc_p</th>\n",
       "      <th>hsc_p</th>\n",
       "      <th>degree_p</th>\n",
       "      <th>etest_p</th>\n",
       "      <th>mba_p</th>\n",
       "      <th>salary</th>\n",
       "    </tr>\n",
       "  </thead>\n",
       "  <tbody>\n",
       "    <tr>\n",
       "      <th>count</th>\n",
       "      <td>35.000000</td>\n",
       "      <td>35.000000</td>\n",
       "      <td>35.000000</td>\n",
       "      <td>35.000000</td>\n",
       "      <td>35.000000</td>\n",
       "      <td>20.000000</td>\n",
       "    </tr>\n",
       "    <tr>\n",
       "      <th>mean</th>\n",
       "      <td>65.045429</td>\n",
       "      <td>63.888000</td>\n",
       "      <td>65.333143</td>\n",
       "      <td>72.700286</td>\n",
       "      <td>62.245429</td>\n",
       "      <td>282350.000000</td>\n",
       "    </tr>\n",
       "    <tr>\n",
       "      <th>std</th>\n",
       "      <td>11.861296</td>\n",
       "      <td>10.687724</td>\n",
       "      <td>8.642086</td>\n",
       "      <td>11.825283</td>\n",
       "      <td>5.247802</td>\n",
       "      <td>69109.581177</td>\n",
       "    </tr>\n",
       "    <tr>\n",
       "      <th>min</th>\n",
       "      <td>43.000000</td>\n",
       "      <td>47.000000</td>\n",
       "      <td>50.000000</td>\n",
       "      <td>55.000000</td>\n",
       "      <td>53.290000</td>\n",
       "      <td>200000.000000</td>\n",
       "    </tr>\n",
       "    <tr>\n",
       "      <th>25%</th>\n",
       "      <td>56.140000</td>\n",
       "      <td>56.000000</td>\n",
       "      <td>58.895000</td>\n",
       "      <td>61.800000</td>\n",
       "      <td>58.380000</td>\n",
       "      <td>240000.000000</td>\n",
       "    </tr>\n",
       "    <tr>\n",
       "      <th>50%</th>\n",
       "      <td>63.000000</td>\n",
       "      <td>63.000000</td>\n",
       "      <td>65.000000</td>\n",
       "      <td>71.000000</td>\n",
       "      <td>62.480000</td>\n",
       "      <td>272500.000000</td>\n",
       "    </tr>\n",
       "    <tr>\n",
       "      <th>75%</th>\n",
       "      <td>71.500000</td>\n",
       "      <td>71.700000</td>\n",
       "      <td>71.000000</td>\n",
       "      <td>81.700000</td>\n",
       "      <td>66.055000</td>\n",
       "      <td>300000.000000</td>\n",
       "    </tr>\n",
       "    <tr>\n",
       "      <th>max</th>\n",
       "      <td>86.500000</td>\n",
       "      <td>90.000000</td>\n",
       "      <td>82.000000</td>\n",
       "      <td>93.400000</td>\n",
       "      <td>74.490000</td>\n",
       "      <td>500000.000000</td>\n",
       "    </tr>\n",
       "  </tbody>\n",
       "</table>\n",
       "</div>"
      ],
      "text/plain": [
       "           ssc_p      hsc_p   degree_p    etest_p      mba_p         salary\n",
       "count  35.000000  35.000000  35.000000  35.000000  35.000000      20.000000\n",
       "mean   65.045429  63.888000  65.333143  72.700286  62.245429  282350.000000\n",
       "std    11.861296  10.687724   8.642086  11.825283   5.247802   69109.581177\n",
       "min    43.000000  47.000000  50.000000  55.000000  53.290000  200000.000000\n",
       "25%    56.140000  56.000000  58.895000  61.800000  58.380000  240000.000000\n",
       "50%    63.000000  63.000000  65.000000  71.000000  62.480000  272500.000000\n",
       "75%    71.500000  71.700000  71.000000  81.700000  66.055000  300000.000000\n",
       "max    86.500000  90.000000  82.000000  93.400000  74.490000  500000.000000"
      ]
     },
     "execution_count": 8,
     "metadata": {},
     "output_type": "execute_result"
    }
   ],
   "source": [
    "test_set.describe()"
   ]
  },
  {
   "cell_type": "markdown",
   "metadata": {},
   "source": [
    "Non sembrano esserci valori chiaramente errati, non verranno toccati"
   ]
  },
  {
   "cell_type": "code",
   "execution_count": 9,
   "metadata": {},
   "outputs": [
    {
     "name": "stdout",
     "output_type": "stream",
     "text": [
      "Lista di feature a disposizione: ['status', 'gender', 'ssc_p', 'ssc_b', 'hsc_p', 'hsc_b', 'hsc_s', 'degree_p', 'degree_t', 'workex', 'etest_p', 'specialisation', 'mba_p', 'salary']\n"
     ]
    }
   ],
   "source": [
    "print(f\"Lista di feature a disposizione: {list(train_set)}\")"
   ]
  },
  {
   "cell_type": "code",
   "execution_count": 10,
   "metadata": {},
   "outputs": [
    {
     "data": {
      "text/plain": [
       "status              2\n",
       "gender              2\n",
       "ssc_p              79\n",
       "ssc_b               2\n",
       "hsc_p              76\n",
       "hsc_b               2\n",
       "hsc_s               3\n",
       "degree_p           64\n",
       "degree_t            3\n",
       "workex              2\n",
       "etest_p            80\n",
       "specialisation      2\n",
       "mba_p             132\n",
       "salary             38\n",
       "dtype: int64"
      ]
     },
     "execution_count": 10,
     "metadata": {},
     "output_type": "execute_result"
    }
   ],
   "source": [
    "train_set.nunique()"
   ]
  },
  {
   "cell_type": "code",
   "execution_count": 11,
   "metadata": {},
   "outputs": [
    {
     "name": "stdout",
     "output_type": "stream",
     "text": [
      "<class 'pandas.core.frame.DataFrame'>\n",
      "RangeIndex: 137 entries, 0 to 136\n",
      "Data columns (total 14 columns):\n",
      " #   Column          Non-Null Count  Dtype  \n",
      "---  ------          --------------  -----  \n",
      " 0   status          137 non-null    object \n",
      " 1   gender          137 non-null    object \n",
      " 2   ssc_p           137 non-null    float64\n",
      " 3   ssc_b           137 non-null    object \n",
      " 4   hsc_p           137 non-null    float64\n",
      " 5   hsc_b           137 non-null    object \n",
      " 6   hsc_s           137 non-null    object \n",
      " 7   degree_p        137 non-null    float64\n",
      " 8   degree_t        137 non-null    object \n",
      " 9   workex          137 non-null    object \n",
      " 10  etest_p         137 non-null    float64\n",
      " 11  specialisation  137 non-null    object \n",
      " 12  mba_p           137 non-null    float64\n",
      " 13  salary          97 non-null     float64\n",
      "dtypes: float64(6), object(8)\n",
      "memory usage: 15.1+ KB\n"
     ]
    }
   ],
   "source": [
    "train_set.info()"
   ]
  },
  {
   "cell_type": "markdown",
   "metadata": {},
   "source": [
    "### Funzione per cancellare colonne, giusto per ricordarmi di toglierle da entrambi i dataset"
   ]
  },
  {
   "cell_type": "code",
   "execution_count": 12,
   "metadata": {},
   "outputs": [],
   "source": [
    "def drop_clumns(datasets:list, columns):\n",
    "    for dataset in datasets:\n",
    "        dataset.drop(labels=columns, inplace=True, axis=1)"
   ]
  },
  {
   "cell_type": "code",
   "execution_count": 13,
   "metadata": {},
   "outputs": [
    {
     "name": "stdout",
     "output_type": "stream",
     "text": [
      "Valori null nel train_set: \n",
      "\n",
      "status             0\n",
      "gender             0\n",
      "ssc_p              0\n",
      "ssc_b              0\n",
      "hsc_p              0\n",
      "hsc_b              0\n",
      "hsc_s              0\n",
      "degree_p           0\n",
      "degree_t           0\n",
      "workex             0\n",
      "etest_p            0\n",
      "specialisation     0\n",
      "mba_p              0\n",
      "salary            40\n",
      "dtype: int64\n"
     ]
    }
   ],
   "source": [
    "print(f\"Valori null nel train_set: \\n\\n{train_set.isna().sum()}\")"
   ]
  },
  {
   "cell_type": "code",
   "execution_count": 14,
   "metadata": {},
   "outputs": [
    {
     "name": "stdout",
     "output_type": "stream",
     "text": [
      "Valori null nel test_set: \n",
      "\n",
      "status             0\n",
      "gender             0\n",
      "ssc_p              0\n",
      "ssc_b              0\n",
      "hsc_p              0\n",
      "hsc_b              0\n",
      "hsc_s              0\n",
      "degree_p           0\n",
      "degree_t           0\n",
      "workex             0\n",
      "etest_p            0\n",
      "specialisation     0\n",
      "mba_p              0\n",
      "salary            15\n",
      "dtype: int64\n"
     ]
    }
   ],
   "source": [
    "print(f\"Valori null nel test_set: \\n\\n{test_set.isna().sum()}\")"
   ]
  },
  {
   "cell_type": "markdown",
   "metadata": {},
   "source": [
    "`salary` contiene valori nulli in entrambi i set"
   ]
  },
  {
   "cell_type": "code",
   "execution_count": 15,
   "metadata": {},
   "outputs": [
    {
     "data": {
      "text/plain": [
       "1"
      ]
     },
     "execution_count": 15,
     "metadata": {},
     "output_type": "execute_result"
    }
   ],
   "source": [
    "temp_train = train_set.dropna()\n",
    "temp_train.status.nunique()"
   ]
  },
  {
   "cell_type": "markdown",
   "metadata": {},
   "source": [
    "Se cancellassi le righe corrispondenti ai salary nulli rimarrei con 1 valore in `status`, ovvero quello relativo ai soli studenti già assunti nel loro primo anno"
   ]
  },
  {
   "cell_type": "code",
   "execution_count": 16,
   "metadata": {},
   "outputs": [
    {
     "data": {
      "text/plain": [
       "<AxesSubplot:xlabel='status', ylabel='count'>"
      ]
     },
     "execution_count": 16,
     "metadata": {},
     "output_type": "execute_result"
    },
    {
     "data": {
      "image/png": "[encoded data removed]",
      "text/plain": [
       "<Figure size 432x288 with 1 Axes>"
      ]
     },
     "metadata": {
      "needs_background": "light"
     },
     "output_type": "display_data"
    }
   ],
   "source": [
    "temp = train_set.copy()\n",
    "temp = temp.fillna(0)\n",
    "temp['salary'] = temp['salary'].apply(lambda x: False if x <= 0 else True)\n",
    "p = sns.countplot(x=\"status\", hue=\"salary\", data=temp)\n",
    "p"
   ]
  },
  {
   "cell_type": "markdown",
   "metadata": {},
   "source": [
    "Nel dataset di train si può infatti vedere come il valore `salary` sia presente solo dove `status` risulta `Placed` mentre tutti i `Not Placed` risultano non avere un salario. Tenendo la feature \"salary\" si avrebbe un classificatore che, vedendo se uno studente ha uno stipendio, predice che ha trovato lavoro. Ne consegue che, per questo ipotetico classificatore, ogni studente che non ha uno stipendio non troverà mai lavoro. Ma la previsione ha come presupposto che lo studente ancora non abbia un lavoro e quindi uno stipendio. Vista la forte dipendenza di queste due feature **si decide di rimuovere salary**."
   ]
  },
  {
   "cell_type": "code",
   "execution_count": 17,
   "metadata": {},
   "outputs": [],
   "source": [
    "drop_clumns([train_set, test_set], ['salary'])"
   ]
  },
  {
   "cell_type": "code",
   "execution_count": 18,
   "metadata": {},
   "outputs": [],
   "source": [
    "# Potrebbero essere eliminate anche le feature relative alle Board of Education ma non porta a particolari miglioramenti\n",
    "# drop_clumns([train_set, test_set], ['ssc_b', 'hsc_b'])"
   ]
  },
  {
   "cell_type": "code",
   "execution_count": 19,
   "metadata": {},
   "outputs": [
    {
     "data": {
      "text/html": [
       "<div>\n",
       "<style scoped>\n",
       "    .dataframe tbody tr th:only-of-type {\n",
       "        vertical-align: middle;\n",
       "    }\n",
       "\n",
       "    .dataframe tbody tr th {\n",
       "        vertical-align: top;\n",
       "    }\n",
       "\n",
       "    .dataframe thead th {\n",
       "        text-align: right;\n",
       "    }\n",
       "</style>\n",
       "<table border=\"1\" class=\"dataframe\">\n",
       "  <thead>\n",
       "    <tr style=\"text-align: right;\">\n",
       "      <th></th>\n",
       "      <th>status</th>\n",
       "      <th>gender</th>\n",
       "      <th>ssc_p</th>\n",
       "      <th>ssc_b</th>\n",
       "      <th>hsc_p</th>\n",
       "      <th>hsc_b</th>\n",
       "      <th>hsc_s</th>\n",
       "      <th>degree_p</th>\n",
       "      <th>degree_t</th>\n",
       "      <th>workex</th>\n",
       "      <th>etest_p</th>\n",
       "      <th>specialisation</th>\n",
       "      <th>mba_p</th>\n",
       "    </tr>\n",
       "  </thead>\n",
       "  <tbody>\n",
       "    <tr>\n",
       "      <th>0</th>\n",
       "      <td>Placed</td>\n",
       "      <td>M</td>\n",
       "      <td>76.76</td>\n",
       "      <td>Others</td>\n",
       "      <td>76.50</td>\n",
       "      <td>Others</td>\n",
       "      <td>Commerce</td>\n",
       "      <td>67.50</td>\n",
       "      <td>Comm&amp;Mgmt</td>\n",
       "      <td>Yes</td>\n",
       "      <td>73.35</td>\n",
       "      <td>Mkt&amp;Fin</td>\n",
       "      <td>64.15</td>\n",
       "    </tr>\n",
       "    <tr>\n",
       "      <th>1</th>\n",
       "      <td>Placed</td>\n",
       "      <td>M</td>\n",
       "      <td>76.70</td>\n",
       "      <td>Central</td>\n",
       "      <td>89.70</td>\n",
       "      <td>Others</td>\n",
       "      <td>Commerce</td>\n",
       "      <td>66.00</td>\n",
       "      <td>Comm&amp;Mgmt</td>\n",
       "      <td>Yes</td>\n",
       "      <td>90.00</td>\n",
       "      <td>Mkt&amp;Fin</td>\n",
       "      <td>68.55</td>\n",
       "    </tr>\n",
       "    <tr>\n",
       "      <th>2</th>\n",
       "      <td>Not Placed</td>\n",
       "      <td>M</td>\n",
       "      <td>62.00</td>\n",
       "      <td>Central</td>\n",
       "      <td>60.33</td>\n",
       "      <td>Others</td>\n",
       "      <td>Science</td>\n",
       "      <td>64.21</td>\n",
       "      <td>Sci&amp;Tech</td>\n",
       "      <td>No</td>\n",
       "      <td>63.00</td>\n",
       "      <td>Mkt&amp;HR</td>\n",
       "      <td>60.02</td>\n",
       "    </tr>\n",
       "    <tr>\n",
       "      <th>3</th>\n",
       "      <td>Placed</td>\n",
       "      <td>F</td>\n",
       "      <td>79.00</td>\n",
       "      <td>Others</td>\n",
       "      <td>76.00</td>\n",
       "      <td>Others</td>\n",
       "      <td>Commerce</td>\n",
       "      <td>85.00</td>\n",
       "      <td>Comm&amp;Mgmt</td>\n",
       "      <td>No</td>\n",
       "      <td>95.00</td>\n",
       "      <td>Mkt&amp;Fin</td>\n",
       "      <td>69.06</td>\n",
       "    </tr>\n",
       "    <tr>\n",
       "      <th>4</th>\n",
       "      <td>Placed</td>\n",
       "      <td>F</td>\n",
       "      <td>73.00</td>\n",
       "      <td>Central</td>\n",
       "      <td>97.00</td>\n",
       "      <td>Others</td>\n",
       "      <td>Commerce</td>\n",
       "      <td>79.00</td>\n",
       "      <td>Comm&amp;Mgmt</td>\n",
       "      <td>Yes</td>\n",
       "      <td>89.00</td>\n",
       "      <td>Mkt&amp;Fin</td>\n",
       "      <td>70.81</td>\n",
       "    </tr>\n",
       "    <tr>\n",
       "      <th>...</th>\n",
       "      <td>...</td>\n",
       "      <td>...</td>\n",
       "      <td>...</td>\n",
       "      <td>...</td>\n",
       "      <td>...</td>\n",
       "      <td>...</td>\n",
       "      <td>...</td>\n",
       "      <td>...</td>\n",
       "      <td>...</td>\n",
       "      <td>...</td>\n",
       "      <td>...</td>\n",
       "      <td>...</td>\n",
       "      <td>...</td>\n",
       "    </tr>\n",
       "    <tr>\n",
       "      <th>132</th>\n",
       "      <td>Placed</td>\n",
       "      <td>M</td>\n",
       "      <td>65.00</td>\n",
       "      <td>Central</td>\n",
       "      <td>71.50</td>\n",
       "      <td>Others</td>\n",
       "      <td>Commerce</td>\n",
       "      <td>62.80</td>\n",
       "      <td>Comm&amp;Mgmt</td>\n",
       "      <td>Yes</td>\n",
       "      <td>57.00</td>\n",
       "      <td>Mkt&amp;Fin</td>\n",
       "      <td>56.60</td>\n",
       "    </tr>\n",
       "    <tr>\n",
       "      <th>133</th>\n",
       "      <td>Not Placed</td>\n",
       "      <td>F</td>\n",
       "      <td>40.89</td>\n",
       "      <td>Others</td>\n",
       "      <td>45.83</td>\n",
       "      <td>Others</td>\n",
       "      <td>Commerce</td>\n",
       "      <td>53.00</td>\n",
       "      <td>Comm&amp;Mgmt</td>\n",
       "      <td>No</td>\n",
       "      <td>71.20</td>\n",
       "      <td>Mkt&amp;HR</td>\n",
       "      <td>65.49</td>\n",
       "    </tr>\n",
       "    <tr>\n",
       "      <th>134</th>\n",
       "      <td>Not Placed</td>\n",
       "      <td>M</td>\n",
       "      <td>61.00</td>\n",
       "      <td>Others</td>\n",
       "      <td>70.00</td>\n",
       "      <td>Others</td>\n",
       "      <td>Commerce</td>\n",
       "      <td>64.00</td>\n",
       "      <td>Comm&amp;Mgmt</td>\n",
       "      <td>No</td>\n",
       "      <td>68.50</td>\n",
       "      <td>Mkt&amp;HR</td>\n",
       "      <td>59.50</td>\n",
       "    </tr>\n",
       "    <tr>\n",
       "      <th>135</th>\n",
       "      <td>Placed</td>\n",
       "      <td>M</td>\n",
       "      <td>74.00</td>\n",
       "      <td>Others</td>\n",
       "      <td>59.00</td>\n",
       "      <td>Others</td>\n",
       "      <td>Commerce</td>\n",
       "      <td>73.00</td>\n",
       "      <td>Comm&amp;Mgmt</td>\n",
       "      <td>Yes</td>\n",
       "      <td>60.00</td>\n",
       "      <td>Mkt&amp;HR</td>\n",
       "      <td>56.70</td>\n",
       "    </tr>\n",
       "    <tr>\n",
       "      <th>136</th>\n",
       "      <td>Not Placed</td>\n",
       "      <td>M</td>\n",
       "      <td>61.80</td>\n",
       "      <td>Others</td>\n",
       "      <td>47.00</td>\n",
       "      <td>Others</td>\n",
       "      <td>Commerce</td>\n",
       "      <td>54.38</td>\n",
       "      <td>Comm&amp;Mgmt</td>\n",
       "      <td>No</td>\n",
       "      <td>57.00</td>\n",
       "      <td>Mkt&amp;Fin</td>\n",
       "      <td>56.13</td>\n",
       "    </tr>\n",
       "  </tbody>\n",
       "</table>\n",
       "<p>137 rows × 13 columns</p>\n",
       "</div>"
      ],
      "text/plain": [
       "         status gender  ssc_p    ssc_b  hsc_p   hsc_b     hsc_s  degree_p  \\\n",
       "0        Placed      M  76.76   Others  76.50  Others  Commerce     67.50   \n",
       "1        Placed      M  76.70  Central  89.70  Others  Commerce     66.00   \n",
       "2    Not Placed      M  62.00  Central  60.33  Others   Science     64.21   \n",
       "3        Placed      F  79.00   Others  76.00  Others  Commerce     85.00   \n",
       "4        Placed      F  73.00  Central  97.00  Others  Commerce     79.00   \n",
       "..          ...    ...    ...      ...    ...     ...       ...       ...   \n",
       "132      Placed      M  65.00  Central  71.50  Others  Commerce     62.80   \n",
       "133  Not Placed      F  40.89   Others  45.83  Others  Commerce     53.00   \n",
       "134  Not Placed      M  61.00   Others  70.00  Others  Commerce     64.00   \n",
       "135      Placed      M  74.00   Others  59.00  Others  Commerce     73.00   \n",
       "136  Not Placed      M  61.80   Others  47.00  Others  Commerce     54.38   \n",
       "\n",
       "      degree_t workex  etest_p specialisation  mba_p  \n",
       "0    Comm&Mgmt    Yes    73.35        Mkt&Fin  64.15  \n",
       "1    Comm&Mgmt    Yes    90.00        Mkt&Fin  68.55  \n",
       "2     Sci&Tech     No    63.00         Mkt&HR  60.02  \n",
       "3    Comm&Mgmt     No    95.00        Mkt&Fin  69.06  \n",
       "4    Comm&Mgmt    Yes    89.00        Mkt&Fin  70.81  \n",
       "..         ...    ...      ...            ...    ...  \n",
       "132  Comm&Mgmt    Yes    57.00        Mkt&Fin  56.60  \n",
       "133  Comm&Mgmt     No    71.20         Mkt&HR  65.49  \n",
       "134  Comm&Mgmt     No    68.50         Mkt&HR  59.50  \n",
       "135  Comm&Mgmt    Yes    60.00         Mkt&HR  56.70  \n",
       "136  Comm&Mgmt     No    57.00        Mkt&Fin  56.13  \n",
       "\n",
       "[137 rows x 13 columns]"
      ]
     },
     "execution_count": 19,
     "metadata": {},
     "output_type": "execute_result"
    }
   ],
   "source": [
    "train_set"
   ]
  },
  {
   "cell_type": "code",
   "execution_count": 20,
   "metadata": {},
   "outputs": [
    {
     "name": "stdout",
     "output_type": "stream",
     "text": [
      "<class 'pandas.core.frame.DataFrame'>\n",
      "RangeIndex: 137 entries, 0 to 136\n",
      "Data columns (total 13 columns):\n",
      " #   Column          Non-Null Count  Dtype  \n",
      "---  ------          --------------  -----  \n",
      " 0   status          137 non-null    object \n",
      " 1   gender          137 non-null    object \n",
      " 2   ssc_p           137 non-null    float64\n",
      " 3   ssc_b           137 non-null    object \n",
      " 4   hsc_p           137 non-null    float64\n",
      " 5   hsc_b           137 non-null    object \n",
      " 6   hsc_s           137 non-null    object \n",
      " 7   degree_p        137 non-null    float64\n",
      " 8   degree_t        137 non-null    object \n",
      " 9   workex          137 non-null    object \n",
      " 10  etest_p         137 non-null    float64\n",
      " 11  specialisation  137 non-null    object \n",
      " 12  mba_p           137 non-null    float64\n",
      "dtypes: float64(5), object(8)\n",
      "memory usage: 14.0+ KB\n"
     ]
    }
   ],
   "source": [
    "train_set.info()"
   ]
  },
  {
   "cell_type": "markdown",
   "metadata": {},
   "source": [
    "Tempo di usare LabelEncoder su quegli object"
   ]
  },
  {
   "cell_type": "code",
   "execution_count": 21,
   "metadata": {},
   "outputs": [],
   "source": [
    "def label_encoder(datasets):\n",
    "    output_datasets = []\n",
    "    encoder = LabelEncoder()\n",
    "    for dataset in datasets:\n",
    "        s = (dataset.dtypes == 'object')\n",
    "        object_cols = list(s[s].index)\n",
    "        label_dataset = dataset.copy()\n",
    "        for col in object_cols:\n",
    "            label_dataset[col] = encoder.fit_transform(label_dataset[col])\n",
    "        output_datasets.append(label_dataset)\n",
    "    return output_datasets"
   ]
  },
  {
   "cell_type": "code",
   "execution_count": 22,
   "metadata": {},
   "outputs": [],
   "source": [
    "label_train, label_test = label_encoder([train_set, test_set])"
   ]
  },
  {
   "cell_type": "code",
   "execution_count": 23,
   "metadata": {},
   "outputs": [
    {
     "data": {
      "text/html": [
       "<div>\n",
       "<style scoped>\n",
       "    .dataframe tbody tr th:only-of-type {\n",
       "        vertical-align: middle;\n",
       "    }\n",
       "\n",
       "    .dataframe tbody tr th {\n",
       "        vertical-align: top;\n",
       "    }\n",
       "\n",
       "    .dataframe thead th {\n",
       "        text-align: right;\n",
       "    }\n",
       "</style>\n",
       "<table border=\"1\" class=\"dataframe\">\n",
       "  <thead>\n",
       "    <tr style=\"text-align: right;\">\n",
       "      <th></th>\n",
       "      <th>status</th>\n",
       "      <th>gender</th>\n",
       "      <th>ssc_p</th>\n",
       "      <th>ssc_b</th>\n",
       "      <th>hsc_p</th>\n",
       "      <th>hsc_b</th>\n",
       "      <th>hsc_s</th>\n",
       "      <th>degree_p</th>\n",
       "      <th>degree_t</th>\n",
       "      <th>workex</th>\n",
       "      <th>etest_p</th>\n",
       "      <th>specialisation</th>\n",
       "      <th>mba_p</th>\n",
       "    </tr>\n",
       "  </thead>\n",
       "  <tbody>\n",
       "    <tr>\n",
       "      <th>0</th>\n",
       "      <td>1</td>\n",
       "      <td>1</td>\n",
       "      <td>76.76</td>\n",
       "      <td>1</td>\n",
       "      <td>76.50</td>\n",
       "      <td>1</td>\n",
       "      <td>1</td>\n",
       "      <td>67.50</td>\n",
       "      <td>0</td>\n",
       "      <td>1</td>\n",
       "      <td>73.35</td>\n",
       "      <td>0</td>\n",
       "      <td>64.15</td>\n",
       "    </tr>\n",
       "    <tr>\n",
       "      <th>1</th>\n",
       "      <td>1</td>\n",
       "      <td>1</td>\n",
       "      <td>76.70</td>\n",
       "      <td>0</td>\n",
       "      <td>89.70</td>\n",
       "      <td>1</td>\n",
       "      <td>1</td>\n",
       "      <td>66.00</td>\n",
       "      <td>0</td>\n",
       "      <td>1</td>\n",
       "      <td>90.00</td>\n",
       "      <td>0</td>\n",
       "      <td>68.55</td>\n",
       "    </tr>\n",
       "    <tr>\n",
       "      <th>2</th>\n",
       "      <td>0</td>\n",
       "      <td>1</td>\n",
       "      <td>62.00</td>\n",
       "      <td>0</td>\n",
       "      <td>60.33</td>\n",
       "      <td>1</td>\n",
       "      <td>2</td>\n",
       "      <td>64.21</td>\n",
       "      <td>2</td>\n",
       "      <td>0</td>\n",
       "      <td>63.00</td>\n",
       "      <td>1</td>\n",
       "      <td>60.02</td>\n",
       "    </tr>\n",
       "    <tr>\n",
       "      <th>3</th>\n",
       "      <td>1</td>\n",
       "      <td>0</td>\n",
       "      <td>79.00</td>\n",
       "      <td>1</td>\n",
       "      <td>76.00</td>\n",
       "      <td>1</td>\n",
       "      <td>1</td>\n",
       "      <td>85.00</td>\n",
       "      <td>0</td>\n",
       "      <td>0</td>\n",
       "      <td>95.00</td>\n",
       "      <td>0</td>\n",
       "      <td>69.06</td>\n",
       "    </tr>\n",
       "    <tr>\n",
       "      <th>4</th>\n",
       "      <td>1</td>\n",
       "      <td>0</td>\n",
       "      <td>73.00</td>\n",
       "      <td>0</td>\n",
       "      <td>97.00</td>\n",
       "      <td>1</td>\n",
       "      <td>1</td>\n",
       "      <td>79.00</td>\n",
       "      <td>0</td>\n",
       "      <td>1</td>\n",
       "      <td>89.00</td>\n",
       "      <td>0</td>\n",
       "      <td>70.81</td>\n",
       "    </tr>\n",
       "  </tbody>\n",
       "</table>\n",
       "</div>"
      ],
      "text/plain": [
       "   status  gender  ssc_p  ssc_b  hsc_p  hsc_b  hsc_s  degree_p  degree_t  \\\n",
       "0       1       1  76.76      1  76.50      1      1     67.50         0   \n",
       "1       1       1  76.70      0  89.70      1      1     66.00         0   \n",
       "2       0       1  62.00      0  60.33      1      2     64.21         2   \n",
       "3       1       0  79.00      1  76.00      1      1     85.00         0   \n",
       "4       1       0  73.00      0  97.00      1      1     79.00         0   \n",
       "\n",
       "   workex  etest_p  specialisation  mba_p  \n",
       "0       1    73.35               0  64.15  \n",
       "1       1    90.00               0  68.55  \n",
       "2       0    63.00               1  60.02  \n",
       "3       0    95.00               0  69.06  \n",
       "4       1    89.00               0  70.81  "
      ]
     },
     "execution_count": 23,
     "metadata": {},
     "output_type": "execute_result"
    }
   ],
   "source": [
    "label_train.head()"
   ]
  },
  {
   "cell_type": "code",
   "execution_count": 24,
   "metadata": {},
   "outputs": [],
   "source": [
    "train_raw = label_train.copy()\n",
    "test_raw = label_test.copy()\n",
    "y_train = train_raw[\"status\"]\n",
    "X_train = train_raw.drop(labels=[\"status\"], axis=1)\n",
    "y_test = test_raw[\"status\"]\n",
    "X_test = test_raw.drop(labels=[\"status\"], axis=1)"
   ]
  },
  {
   "cell_type": "code",
   "execution_count": 25,
   "metadata": {},
   "outputs": [
    {
     "data": {
      "text/html": [
       "<div>\n",
       "<style scoped>\n",
       "    .dataframe tbody tr th:only-of-type {\n",
       "        vertical-align: middle;\n",
       "    }\n",
       "\n",
       "    .dataframe tbody tr th {\n",
       "        vertical-align: top;\n",
       "    }\n",
       "\n",
       "    .dataframe thead th {\n",
       "        text-align: right;\n",
       "    }\n",
       "</style>\n",
       "<table border=\"1\" class=\"dataframe\">\n",
       "  <thead>\n",
       "    <tr style=\"text-align: right;\">\n",
       "      <th></th>\n",
       "      <th>gender</th>\n",
       "      <th>ssc_p</th>\n",
       "      <th>ssc_b</th>\n",
       "      <th>hsc_p</th>\n",
       "      <th>hsc_b</th>\n",
       "      <th>hsc_s</th>\n",
       "      <th>degree_p</th>\n",
       "      <th>degree_t</th>\n",
       "      <th>workex</th>\n",
       "      <th>etest_p</th>\n",
       "      <th>specialisation</th>\n",
       "      <th>mba_p</th>\n",
       "    </tr>\n",
       "  </thead>\n",
       "  <tbody>\n",
       "    <tr>\n",
       "      <th>0</th>\n",
       "      <td>1</td>\n",
       "      <td>76.76</td>\n",
       "      <td>1</td>\n",
       "      <td>76.50</td>\n",
       "      <td>1</td>\n",
       "      <td>1</td>\n",
       "      <td>67.50</td>\n",
       "      <td>0</td>\n",
       "      <td>1</td>\n",
       "      <td>73.35</td>\n",
       "      <td>0</td>\n",
       "      <td>64.15</td>\n",
       "    </tr>\n",
       "    <tr>\n",
       "      <th>1</th>\n",
       "      <td>1</td>\n",
       "      <td>76.70</td>\n",
       "      <td>0</td>\n",
       "      <td>89.70</td>\n",
       "      <td>1</td>\n",
       "      <td>1</td>\n",
       "      <td>66.00</td>\n",
       "      <td>0</td>\n",
       "      <td>1</td>\n",
       "      <td>90.00</td>\n",
       "      <td>0</td>\n",
       "      <td>68.55</td>\n",
       "    </tr>\n",
       "    <tr>\n",
       "      <th>2</th>\n",
       "      <td>1</td>\n",
       "      <td>62.00</td>\n",
       "      <td>0</td>\n",
       "      <td>60.33</td>\n",
       "      <td>1</td>\n",
       "      <td>2</td>\n",
       "      <td>64.21</td>\n",
       "      <td>2</td>\n",
       "      <td>0</td>\n",
       "      <td>63.00</td>\n",
       "      <td>1</td>\n",
       "      <td>60.02</td>\n",
       "    </tr>\n",
       "    <tr>\n",
       "      <th>3</th>\n",
       "      <td>0</td>\n",
       "      <td>79.00</td>\n",
       "      <td>1</td>\n",
       "      <td>76.00</td>\n",
       "      <td>1</td>\n",
       "      <td>1</td>\n",
       "      <td>85.00</td>\n",
       "      <td>0</td>\n",
       "      <td>0</td>\n",
       "      <td>95.00</td>\n",
       "      <td>0</td>\n",
       "      <td>69.06</td>\n",
       "    </tr>\n",
       "    <tr>\n",
       "      <th>4</th>\n",
       "      <td>0</td>\n",
       "      <td>73.00</td>\n",
       "      <td>0</td>\n",
       "      <td>97.00</td>\n",
       "      <td>1</td>\n",
       "      <td>1</td>\n",
       "      <td>79.00</td>\n",
       "      <td>0</td>\n",
       "      <td>1</td>\n",
       "      <td>89.00</td>\n",
       "      <td>0</td>\n",
       "      <td>70.81</td>\n",
       "    </tr>\n",
       "  </tbody>\n",
       "</table>\n",
       "</div>"
      ],
      "text/plain": [
       "   gender  ssc_p  ssc_b  hsc_p  hsc_b  hsc_s  degree_p  degree_t  workex  \\\n",
       "0       1  76.76      1  76.50      1      1     67.50         0       1   \n",
       "1       1  76.70      0  89.70      1      1     66.00         0       1   \n",
       "2       1  62.00      0  60.33      1      2     64.21         2       0   \n",
       "3       0  79.00      1  76.00      1      1     85.00         0       0   \n",
       "4       0  73.00      0  97.00      1      1     79.00         0       1   \n",
       "\n",
       "   etest_p  specialisation  mba_p  \n",
       "0    73.35               0  64.15  \n",
       "1    90.00               0  68.55  \n",
       "2    63.00               1  60.02  \n",
       "3    95.00               0  69.06  \n",
       "4    89.00               0  70.81  "
      ]
     },
     "execution_count": 25,
     "metadata": {},
     "output_type": "execute_result"
    }
   ],
   "source": [
    "X_train.head()"
   ]
  },
  {
   "cell_type": "code",
   "execution_count": 26,
   "metadata": {},
   "outputs": [
    {
     "data": {
      "text/plain": [
       "0    1\n",
       "1    1\n",
       "2    0\n",
       "3    1\n",
       "4    1\n",
       "Name: status, dtype: int64"
      ]
     },
     "execution_count": 26,
     "metadata": {},
     "output_type": "execute_result"
    }
   ],
   "source": [
    "y_train.head()"
   ]
  },
  {
   "cell_type": "code",
   "execution_count": 27,
   "metadata": {},
   "outputs": [],
   "source": [
    "best_results = {}"
   ]
  },
  {
   "cell_type": "code",
   "execution_count": 28,
   "metadata": {},
   "outputs": [],
   "source": [
    "def get_train_test_accuracy(y_train, y_train_pred, y_test, y_test_pred):\n",
    "    train_accuracy = round(accuracy_score(y_train, y_train_pred)*100, 2)\n",
    "    test_accuracy = round(accuracy_score(y_test, y_test_pred)*100, 2)\n",
    "    return train_accuracy, test_accuracy"
   ]
  },
  {
   "cell_type": "code",
   "execution_count": 29,
   "metadata": {},
   "outputs": [
    {
     "name": "stdout",
     "output_type": "stream",
     "text": [
      "K-Neighbors con n_neighbors=1\n",
      "Train set accuracy: 100.00%\n",
      "Test set accuracy: 80.00%\n",
      "\n",
      "\n",
      "K-Neighbors con n_neighbors=3\n",
      "Train set accuracy: 91.97%\n",
      "Test set accuracy: 82.86%\n",
      "\n",
      "\n",
      "K-Neighbors con n_neighbors=5\n",
      "Train set accuracy: 91.24%\n",
      "Test set accuracy: 85.71%\n",
      "\n",
      "\n",
      "K-Neighbors con n_neighbors=7\n",
      "Train set accuracy: 89.05%\n",
      "Test set accuracy: 85.71%\n",
      "\n",
      "\n",
      "K-Neighbors con n_neighbors=9\n",
      "Train set accuracy: 89.05%\n",
      "Test set accuracy: 85.71%\n",
      "\n",
      "\n",
      "K-Neighbors con n_neighbors=11\n",
      "Train set accuracy: 88.32%\n",
      "Test set accuracy: 91.43%\n",
      "\n",
      "\n",
      "K-Neighbors con n_neighbors=13\n",
      "Train set accuracy: 87.59%\n",
      "Test set accuracy: 91.43%\n",
      "\n",
      "\n",
      "K-Neighbors con n_neighbors=15\n",
      "Train set accuracy: 86.13%\n",
      "Test set accuracy: 91.43%\n",
      "\n",
      "\n",
      "K-Neighbors con n_neighbors=17\n",
      "Train set accuracy: 85.40%\n",
      "Test set accuracy: 88.57%\n",
      "\n",
      "\n",
      "K-Neighbors con n_neighbors=19\n",
      "Train set accuracy: 84.67%\n",
      "Test set accuracy: 85.71%\n",
      "\n",
      "\n",
      "K-Neighbors con n_neighbors=21\n",
      "Train set accuracy: 83.94%\n",
      "Test set accuracy: 85.71%\n",
      "\n",
      "\n",
      "K-Neighbors con n_neighbors=23\n",
      "Train set accuracy: 83.21%\n",
      "Test set accuracy: 88.57%\n",
      "\n",
      "\n",
      "K-Neighbors con n_neighbors=25\n",
      "Train set accuracy: 83.21%\n",
      "Test set accuracy: 85.71%\n",
      "\n",
      "\n",
      "K-Neighbors con n_neighbors=27\n",
      "Train set accuracy: 83.21%\n",
      "Test set accuracy: 85.71%\n",
      "\n",
      "\n",
      "K-Neighbors con n_neighbors=29\n",
      "Train set accuracy: 83.21%\n",
      "Test set accuracy: 85.71%\n",
      "\n",
      "\n",
      "La migliore configurazione di KNeighborsClassifier ha 11 neighbors\n",
      "train_accuracy = 88.32%\n",
      "test_accuracy = 91.43%\n"
     ]
    }
   ],
   "source": [
    "best_configuration = (1, 0, 0)\n",
    "best_KNC = None\n",
    "for i in range(1, 30, 2):\n",
    "    clf = KNeighborsClassifier(n_neighbors=i)\n",
    "\n",
    "    clf.fit(X_train, y_train)\n",
    "    \n",
    "\n",
    "    y_train_pred=clf.predict(X_train)\n",
    "    y_test_pred=clf.predict(X_test)\n",
    "\n",
    "    train_accuracy, test_accuracy = get_train_test_accuracy(y_train, y_train_pred, y_test, y_test_pred)\n",
    "    \n",
    "    print(f\"K-Neighbors con n_neighbors={i}\")\n",
    "    print(\"Train set accuracy: {:.2f}%\".format(train_accuracy))\n",
    "    print(\"Test set accuracy: {:.2f}%\".format(test_accuracy))\n",
    "    print(\"\\n\")\n",
    "    if best_configuration[2] < test_accuracy or (best_configuration[2] == test_accuracy and best_configuration[1] < train_accuracy):\n",
    "        best_configuration = (i, train_accuracy, test_accuracy)\n",
    "        best_KNC = clf\n",
    "\n",
    "print(f\"La migliore configurazione di KNeighborsClassifier ha {best_configuration[0]} neighbors\")\n",
    "print(f\"train_accuracy = {best_configuration[1]}%\")\n",
    "print(f\"test_accuracy = {best_configuration[2]}%\")\n",
    "best_results['KNeighborsClassifier'] = (best_configuration[2], best_KNC)"
   ]
  },
  {
   "cell_type": "code",
   "execution_count": 30,
   "metadata": {},
   "outputs": [
    {
     "name": "stdout",
     "output_type": "stream",
     "text": [
      "Logistic Regression con C=0.01\n",
      "train_accuracy = 86.86%\n",
      "test_accuracy = 82.86%\n",
      "\n",
      "Logistic Regression con C=1.0\n",
      "train_accuracy = 89.05%\n",
      "test_accuracy = 82.86%\n",
      "\n",
      "Logistic Regression con C=100\n",
      "train_accuracy = 92.7%\n",
      "test_accuracy = 82.86%\n",
      "\n",
      "La migliore configurazione di LogisticRegression ha C=100\n",
      "train_accuracy = 92.7%\n",
      "test_accuracy = 82.86%\n"
     ]
    }
   ],
   "source": [
    "best_configuration = (1, 0, 0)\n",
    "best_log_reg = None\n",
    "\n",
    "for i in [0.01, 1.0, 100]:\n",
    "    log_reg = LogisticRegression(C=i, solver='newton-cg')\n",
    "    \n",
    "    log_reg.fit(X_train, y_train)\n",
    "\n",
    "    y_train_pred=log_reg.predict(X_train)\n",
    "    y_test_pred=log_reg.predict(X_test)\n",
    "\n",
    "    train_accuracy, test_accuracy = get_train_test_accuracy(y_train, y_train_pred, y_test, y_test_pred)\n",
    "\n",
    "    print(f\"Logistic Regression con C={i}\")\n",
    "    print(f\"train_accuracy = {train_accuracy}%\")\n",
    "    print(f\"test_accuracy = {test_accuracy}%\")\n",
    "    print(\"\")\n",
    "    \n",
    "    if best_configuration[2] < test_accuracy or (best_configuration[2] == test_accuracy and best_configuration[1] < train_accuracy):\n",
    "        best_configuration = (i, train_accuracy, test_accuracy)\n",
    "        best_log_reg = log_reg\n",
    "\n",
    "print(f\"La migliore configurazione di LogisticRegression ha C={best_configuration[0]}\")\n",
    "print(f\"train_accuracy = {best_configuration[1]}%\")\n",
    "print(f\"test_accuracy = {best_configuration[2]}%\")\n",
    "best_results['LogisticRegression'] = (best_configuration[2], best_log_reg)"
   ]
  },
  {
   "cell_type": "code",
   "execution_count": 31,
   "metadata": {},
   "outputs": [
    {
     "data": {
      "text/plain": [
       "{'KNeighborsClassifier': (91.43, KNeighborsClassifier(n_neighbors=11)),\n",
       " 'LogisticRegression': (82.86, LogisticRegression(C=100, solver='newton-cg'))}"
      ]
     },
     "execution_count": 31,
     "metadata": {},
     "output_type": "execute_result"
    }
   ],
   "source": [
    "best_results"
   ]
  },
  {
   "cell_type": "code",
   "execution_count": 32,
   "metadata": {},
   "outputs": [
    {
     "name": "stdout",
     "output_type": "stream",
     "text": [
      "Il miglior classificatore è KNeighborsClassifier con un'accuracy di 91.43\n"
     ]
    }
   ],
   "source": [
    "best_classifier = (\"\", 0)\n",
    "for classifier in best_results:\n",
    "    accuracy = best_results[classifier][0]\n",
    "    if accuracy > best_classifier[1]:\n",
    "        best_classifier = (classifier, accuracy)\n",
    "print(f\"Il miglior classificatore è {best_classifier[0]} con un'accuracy di {best_classifier[1]}\")"
   ]
  },
  {
   "cell_type": "code",
   "execution_count": 33,
   "metadata": {},
   "outputs": [
    {
     "name": "stdout",
     "output_type": "stream",
     "text": [
      "LogisticRegression\n"
     ]
    },
    {
     "data": {
      "text/plain": [
       "<sklearn.metrics._plot.confusion_matrix.ConfusionMatrixDisplay at 0x7fd1fdcc17c0>"
      ]
     },
     "execution_count": 33,
     "metadata": {},
     "output_type": "execute_result"
    },
    {
     "data": {
      "image/png": "[encoded data removed]",
      "text/plain": [
       "<Figure size 432x288 with 2 Axes>"
      ]
     },
     "metadata": {
      "needs_background": "light"
     },
     "output_type": "display_data"
    }
   ],
   "source": [
    "print(\"LogisticRegression\")\n",
    "plot_confusion_matrix(best_results['LogisticRegression'][1], X_test, y_test, display_labels=['Not Placed','Placed'])"
   ]
  },
  {
   "cell_type": "code",
   "execution_count": 34,
   "metadata": {},
   "outputs": [
    {
     "name": "stdout",
     "output_type": "stream",
     "text": [
      "KNeighborsClassifier\n"
     ]
    },
    {
     "data": {
      "text/plain": [
       "<sklearn.metrics._plot.confusion_matrix.ConfusionMatrixDisplay at 0x7fd1fdd76610>"
      ]
     },
     "execution_count": 34,
     "metadata": {},
     "output_type": "execute_result"
    },
    {
     "data": {
      "image/png": "[encoded data removed]",
      "text/plain": [
       "<Figure size 432x288 with 2 Axes>"
      ]
     },
     "metadata": {
      "needs_background": "light"
     },
     "output_type": "display_data"
    }
   ],
   "source": [
    "print(\"KNeighborsClassifier\")\n",
    "plot_confusion_matrix(best_results['KNeighborsClassifier'][1], X_test, y_test, display_labels=['Not Placed','Placed'])"
   ]
  },
  {
   "cell_type": "markdown",
   "metadata": {},
   "source": [
    "Si può vedere come i risultati non risultano troppo sbilanciati. Vengono predetti più `Placed` semplicemente perché è il più popoloso nel dataset. Infatti il maggior numero di errori vengono fatti sui `Not Placed` proprio per questo motivo"
   ]
  },
  {
   "cell_type": "markdown",
   "metadata": {},
   "source": [
    "`KNeighborsClassifier` con `n_neighbors=11` ha le performance migliori in quanto ha il valore di `Accuracy` più alto e, osservando la matrice di confusione, si osserva che rileva un numero di Falsi Negativi nettamente inferiore alla LogisticRegression (0) e un numero Falsi Positivi di una sola unità superiore alla sua controparte (3). Variando lo split del dataset (ad esempio non fissando un `random_state`) o variando il numero di elementi potrebbero esserci delle variazioni"
   ]
  },
  {
   "cell_type": "markdown",
   "metadata": {},
   "source": [
    "# Accuracy KNeighborsClassifier"
   ]
  },
  {
   "cell_type": "code",
   "execution_count": 35,
   "metadata": {},
   "outputs": [
    {
     "name": "stdout",
     "output_type": "stream",
     "text": [
      "91.43%\n"
     ]
    }
   ],
   "source": [
    "best = \"KNeighborsClassifier\"\n",
    "# print(f\"Il classificatore scelto è {best}\")\n",
    "y_test_pred = best_results[best][1].predict(X_test)\n",
    "_, test_accuracy = get_train_test_accuracy(y_train, y_train_pred, y_test, y_test_pred)\n",
    "# print(f\"Accuracy = {test_accuracy}%\")\n",
    "print(f\"{test_accuracy}%\")"
   ]
  }
 ],
 "metadata": {
  "kernelspec": {
   "display_name": "Python 3",
   "language": "python",
   "name": "python3"
  },
  "language_info": {
   "codemirror_mode": {
    "name": "ipython",
    "version": 3
   },
   "file_extension": ".py",
   "mimetype": "text/x-python",
   "name": "python",
   "nbconvert_exporter": "python",
   "pygments_lexer": "ipython3",
   "version": "3.8.5"
  }
 },
 "nbformat": 4,
 "nbformat_minor": 4
}
